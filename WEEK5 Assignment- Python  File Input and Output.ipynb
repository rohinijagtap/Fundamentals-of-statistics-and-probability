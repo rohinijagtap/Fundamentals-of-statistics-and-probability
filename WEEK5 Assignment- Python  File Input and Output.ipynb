{
  "cells": [
    {
      "cell_type": "markdown",
      "id": "8ab1612f",
      "metadata": {
        "id": "8ab1612f"
      },
      "source": [
        "## WEEK5 Assignment- Python  File Input and Output"
      ]
    },
    {
      "cell_type": "markdown",
      "source": [
        "# New Section"
      ],
      "metadata": {
        "id": "gtwlB9izWSQp"
      },
      "id": "gtwlB9izWSQp"
    },
    {
      "cell_type": "markdown",
      "id": "03f2d3d6",
      "metadata": {
        "id": "03f2d3d6"
      },
      "source": [
        "```\n",
        "Q.1 Problem Statements:\n",
        "Create a python program for taking user notes in text file. When a user starts it up, it should prompt them for a filename.\n",
        "If they enter a file name that doesn't exist, it should prompt them to enter the text they want to write to the file.\n",
        "After they enter the text, it should save the file and exit.If they enter a file name that already exists, \n",
        "it should ask the user if they want:\n",
        "A) Read the file\n",
        "B) Append the file\n",
        "C) Delete the file and start over\n",
        "\n",
        "If the user wants to read the file it should simply show the contents of the file on the screen.\n",
        "If the user wants to start over then the file should be deleted and another empty one made in its place.\n",
        "If a user elects to append the file, then they should be able to enter more text, \n",
        "and that text should be added to the existing text in the file.\n",
        "\n",
        "Note:\n",
        "    The software Development Team created partial python code for the above problem statement, you try to help them to complete the code wherever required and produce successful output \n",
        "```"
      ]
    },
    {
      "cell_type": "code",
      "execution_count": 13,
      "id": "abb6eca2",
      "metadata": {
        "colab": {
          "base_uri": "https://localhost:8080/"
        },
        "id": "abb6eca2",
        "outputId": "1b2e2841-efce-4caa-d9a0-a7f74fc5b980"
      },
      "outputs": [
        {
          "name": "stdout",
          "output_type": "stream",
          "text": [
            "Enter The File Nametext.txt\n",
            "Looking for file:text.txt\n",
            "Found it\n",
            "Enter the possible file operation: read, append, delete\n",
            "append\n",
            "enter number of lines you want add :1\n",
            "c\n"
          ]
        }
      ],
      "source": [
        "import os\n",
        "filename=input(\"Enter The File Name\")\n",
        "# Here we check if the file exists\n",
        "if os.path.isfile('./'+filename):\n",
        "    print(f\"Looking for file:{filename}\")\n",
        "    print(\"Found it\")\n",
        "    action = input(\"Enter the possible file operation: read, append, delete\\n\")\n",
        "    if action==\"read\":\n",
        "     # \"\"\"To Do : write the code for file read operation\"\"\n",
        "      with open(filename,\"r\") as list:\n",
        "        for x in list:\n",
        "          print(x)\n",
        "        list.close() \n",
        "    elif action==\"append\":\n",
        "        \"\"\"To Do : write the code for file append operation\"\"\"\n",
        "        with open(filename,\"a\") as list:\n",
        "          n=input(\"enter number of lines you want add :\")\n",
        "          for _ in range(int(n)):\n",
        "            list.write(input()+\"\\n\")\n",
        "            list.close()\n",
        "    elif action == \"delete\":\n",
        "         #\"\"\"To Do : write the code for file dalete and another empty one made in its place operation\"\"\"\n",
        "        os.remove(filename)\n",
        "        f = open(filename,\"x\") \n",
        "        f.close()\n",
        "    else:\n",
        "        print(\"Sorry, unrecognized action 😢\")\n",
        "else:\n",
        "  print(\"Nope, this file does not exist, I'm going to create it for you! 😄\")\n",
        "  \"\"\"To Do : write the code for file create and write the notes \"\"\"\n",
        "  f = open(filename,\"x\")\n",
        "  f.close()\n"
      ]
    },
    {
      "cell_type": "markdown",
      "id": "3f5280fc",
      "metadata": {
        "id": "3f5280fc"
      },
      "source": [
        ""
      ]
    },
    {
      "cell_type": "markdown",
      "id": "3770112e",
      "metadata": {
        "id": "3770112e"
      },
      "source": [
        "```\n",
        "Q2.Text File Analytics:\n",
        "Q2.1 Assume you as Data Analyst, you need to collect all text file name from current working directory and store the all text file name into \n",
        "    \"txtfile_namelist.txt\" and read this file and print How many files are available in that namelist.\n",
        "```"
      ]
    },
    {
      "cell_type": "code",
      "source": [
        "import os\n",
        "count=0\n",
        "with open(\"txt_namelist.txt\",\"w+\") as txt_list:\n",
        "  for files in os.listdir():\n",
        "    if files.endswith(\".txt\"):\n",
        "      txt_list.write(files+\"\\n\")\n",
        "      count+=1\n",
        "print(f\"number of text files : {count}\")\n"
      ],
      "metadata": {
        "colab": {
          "base_uri": "https://localhost:8080/"
        },
        "id": "M1FUHbE0btQ_",
        "outputId": "860aa407-ca0c-461c-8821-28929480f6dc"
      },
      "id": "M1FUHbE0btQ_",
      "execution_count": 16,
      "outputs": [
        {
          "output_type": "stream",
          "name": "stdout",
          "text": [
            "number of text files : 3\n"
          ]
        }
      ]
    },
    {
      "cell_type": "markdown",
      "id": "21e1504b",
      "metadata": {
        "id": "21e1504b"
      },
      "source": [
        "```    \n",
        "Q2.2 write the following contents to zenofpython.txt\n",
        "content:\n",
        "--------------------------------------------------------------\n",
        "The Zen of Python, by Tim Peters\n",
        "Beautiful is better than ugly.\n",
        "Explicit is better than implicit.\n",
        "Simple is better than complex.\n",
        "Complex is better than complicated.\n",
        "Flat is better than nested.\n",
        "Sparse is better than dense.\n",
        "Readability counts.\n",
        "Special cases aren't special enough to break the rules.\n",
        "Although practicality beats purity.\n",
        "Errors should never pass silently.\n",
        "Unless explicitly silenced.\n",
        "In the face of ambiguity, refuse the temptation to guess.\n",
        "There should be one -- and preferably only one -- obvious way to do it.\n",
        "Although that way may not be obvious at first unless you're Dutch.\n",
        "Now is better than never.\n",
        "Although never is often better than right now.\n",
        "If the implementation is hard to explain, it's a bad idea.\n",
        "If the implementation is easy to explain, it may be a good idea.\n",
        "Namespaces are one honking great idea -- let's do more of those!\n",
        "------------------------------------------------------------------\n",
        "an perform the following Operation:\n",
        "1.print number of lines in the zenofpython.txt file\n",
        "2.print number of words in the zenofpython.txt file\n",
        "3.Print how may python keyword present in the zenofpython.txt file\n",
        "4.print the all content in uppercase\n",
        "```"
      ]
    },
    {
      "cell_type": "code",
      "execution_count": 19,
      "id": "77094c02",
      "metadata": {
        "colab": {
          "base_uri": "https://localhost:8080/",
          "height": 87
        },
        "id": "77094c02",
        "outputId": "97963164-bf91-4572-e584-401531f29eb4"
      },
      "outputs": [
        {
          "output_type": "stream",
          "name": "stdout",
          "text": [
            "Number of words in text file : 291\n",
            "Total lines: 39\n"
          ]
        },
        {
          "output_type": "execute_result",
          "data": {
            "text/plain": [
              "\"import keyword\\nfor line in open('zenofpython.txt'):\\n   for k in keyword:\\n      if k in line:\\n          print(k)   #no out put \""
            ],
            "application/vnd.google.colaboratory.intrinsic+json": {
              "type": "string"
            }
          },
          "metadata": {},
          "execution_count": 19
        }
      ],
      "source": [
        "#1.print number of words in the zenofpython.txt file\n",
        "file = open(\"zenofpython.txt\", \"rt\")\n",
        "data = file.read()\n",
        "words = data.split()\n",
        "print('Number of words in text file :', len(words))\n",
        "\n",
        "#2.print number of lines in the zenofpython.txt file\n",
        "\n",
        "with open(r\"zenofpython.txt\", 'r') as fp:\n",
        "    x = len(fp.readlines())\n",
        "    print('Total lines:', x)  \n",
        "\n",
        "\n",
        "#4.print the all content in uppercase\n",
        "\n",
        "fo = open('zenofpython.txt', 'r')\n",
        "for x in fo.read():\n",
        "    y = x.upper()\n",
        "    fo1 = open('zenofpython.txt', 'a')\n",
        "    fo1.write(y)\n",
        "#3.Print how may python keyword present in the zenofpython.txt file\n",
        "import keyword\n",
        "for line in open('zenofpython.txt'):\n",
        "   for k in keyword:\n",
        "      if k in line:\n",
        "          print(k)   #no out put '''"
      ]
    },
    {
      "cell_type": "code",
      "execution_count": 20,
      "id": "ebe4817d",
      "metadata": {
        "colab": {
          "base_uri": "https://localhost:8080/"
        },
        "id": "ebe4817d",
        "outputId": "920fdeac-f4ee-47cd-b21c-86a970a55a88"
      },
      "outputs": [
        {
          "output_type": "stream",
          "name": "stdout",
          "text": [
            "Number of words in text file : 581\n"
          ]
        }
      ],
      "source": [
        "#1.print number of words in the zenofpython.txt file\n",
        "file = open(\"zenofpython.txt\", \"rt\")\n",
        "data = file.read()\n",
        "words = data.split()\n",
        "print('Number of words in text file :', len(words))"
      ]
    },
    {
      "cell_type": "code",
      "source": [
        "#2.print number of lines in the zenofpython.txt file\n",
        "\n",
        "with open(r\"zenofpython.txt\", 'r') as fp:\n",
        "    x = len(fp.readlines())\n",
        "    print('Total lines:', x)  \n"
      ],
      "metadata": {
        "colab": {
          "base_uri": "https://localhost:8080/"
        },
        "id": "AXsz5gzQeJBS",
        "outputId": "b00828ef-f7b4-431c-fb98-76f70bdd0c14"
      },
      "id": "AXsz5gzQeJBS",
      "execution_count": 21,
      "outputs": [
        {
          "output_type": "stream",
          "name": "stdout",
          "text": [
            "Total lines: 77\n"
          ]
        }
      ]
    },
    {
      "cell_type": "code",
      "source": [
        "#3.Print how may python keyword present in the zenofpython.txt file\n",
        "import keyword\n",
        "for line in open('zenofpython.txt'):\n",
        "   for k in keyword():\n",
        "      if k in line:\n",
        "          print(k)   #no out put '''"
      ],
      "metadata": {
        "colab": {
          "base_uri": "https://localhost:8080/",
          "height": 235
        },
        "id": "lZD2euv2eOkk",
        "outputId": "6db2a62b-d230-41ad-d7a2-9adad8fadbde"
      },
      "id": "lZD2euv2eOkk",
      "execution_count": 26,
      "outputs": [
        {
          "output_type": "error",
          "ename": "TypeError",
          "evalue": "ignored",
          "traceback": [
            "\u001b[0;31m---------------------------------------------------------------------------\u001b[0m",
            "\u001b[0;31mTypeError\u001b[0m                                 Traceback (most recent call last)",
            "\u001b[0;32m<ipython-input-26-a1d8d5400dcc>\u001b[0m in \u001b[0;36m<module>\u001b[0;34m()\u001b[0m\n\u001b[1;32m      2\u001b[0m \u001b[0;32mimport\u001b[0m \u001b[0mkeyword\u001b[0m\u001b[0;34m\u001b[0m\u001b[0;34m\u001b[0m\u001b[0m\n\u001b[1;32m      3\u001b[0m \u001b[0;32mfor\u001b[0m \u001b[0mline\u001b[0m \u001b[0;32min\u001b[0m \u001b[0mopen\u001b[0m\u001b[0;34m(\u001b[0m\u001b[0;34m'zenofpython.txt'\u001b[0m\u001b[0;34m)\u001b[0m\u001b[0;34m:\u001b[0m\u001b[0;34m\u001b[0m\u001b[0;34m\u001b[0m\u001b[0m\n\u001b[0;32m----> 4\u001b[0;31m    \u001b[0;32mfor\u001b[0m \u001b[0mk\u001b[0m \u001b[0;32min\u001b[0m \u001b[0mkeyword\u001b[0m\u001b[0;34m(\u001b[0m\u001b[0;34m)\u001b[0m\u001b[0;34m:\u001b[0m\u001b[0;34m\u001b[0m\u001b[0;34m\u001b[0m\u001b[0m\n\u001b[0m\u001b[1;32m      5\u001b[0m       \u001b[0;32mif\u001b[0m \u001b[0mk\u001b[0m \u001b[0;32min\u001b[0m \u001b[0mline\u001b[0m\u001b[0;34m:\u001b[0m\u001b[0;34m\u001b[0m\u001b[0;34m\u001b[0m\u001b[0m\n\u001b[1;32m      6\u001b[0m           \u001b[0mprint\u001b[0m\u001b[0;34m(\u001b[0m\u001b[0mk\u001b[0m\u001b[0;34m)\u001b[0m   \u001b[0;31m#no out put '''\u001b[0m\u001b[0;34m\u001b[0m\u001b[0;34m\u001b[0m\u001b[0m\n",
            "\u001b[0;31mTypeError\u001b[0m: 'module' object is not callable"
          ]
        }
      ]
    },
    {
      "cell_type": "code",
      "source": [
        "#4.print the all content in uppercase\n",
        "\n",
        "fo = open('zenofpython.txt', 'r')\n",
        "for x in fo.read():\n",
        "    y = x.upper()\n",
        "    fo1 = open('zenofpython.txt', 'a')\n",
        "    fo1.write(y)"
      ],
      "metadata": {
        "id": "pPPe4PageoUc"
      },
      "id": "pPPe4PageoUc",
      "execution_count": 25,
      "outputs": []
    }
  ],
  "metadata": {
    "kernelspec": {
      "display_name": "Python 3 (ipykernel)",
      "language": "python",
      "name": "python3"
    },
    "language_info": {
      "codemirror_mode": {
        "name": "ipython",
        "version": 3
      },
      "file_extension": ".py",
      "mimetype": "text/x-python",
      "name": "python",
      "nbconvert_exporter": "python",
      "pygments_lexer": "ipython3",
      "version": "3.9.12"
    },
    "colab": {
      "name": "WEEK5 Assignment- Python  File Input and Output.ipynb",
      "provenance": []
    }
  },
  "nbformat": 4,
  "nbformat_minor": 5
}