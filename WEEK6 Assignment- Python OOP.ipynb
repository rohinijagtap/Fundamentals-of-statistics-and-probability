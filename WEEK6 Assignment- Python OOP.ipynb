{
  "cells": [
    {
      "cell_type": "markdown",
      "id": "b005fb8b",
      "metadata": {
        "id": "b005fb8b"
      },
      "source": [
        "WEEK6: Assignment- Python OOP     \n",
        "submitted by Rohini Jagtap"
      ]
    },
    {
      "cell_type": "markdown",
      "id": "8831edb1",
      "metadata": {
        "id": "8831edb1"
      },
      "source": [
        "Q1.Problem on class and object\n",
        "```\n",
        "Task \n",
        "Write a Person class with an instance variable, age, and a constructor that takes an integer, initialAge,as a parameter.\n",
        "The constructor must assign initialAge to age after confirming the argument passed as initialAge is not negative;if a negative argument is passed as initialAge,the constructor should set age to 0 and print Age is not valid,setting age to 0. \n",
        "In addition, you must write the following instance methods: \n",
        "1.yearPasses() should increase the age instance variable by 1 \n",
        "2. amlOld() should perform the following conditional actions: \n",
        "- If age < 13, print You are young.. \n",
        "- If age > 13 and age < 18, print You are a teenager \n",
        "- Otherwise, print You are old.. \n",
        "\n",
        "Input Format\n",
        "The first line contains an integer,T(the number of test cases), and the T subsequent lines each contain an integer denoting the age of a Person instance.\n",
        "```"
      ]
    },
    {
      "cell_type": "markdown",
      "id": "0946f83f",
      "metadata": {
        "id": "0946f83f"
      },
      "source": [
        "![image.png](attachment:image.png)"
      ]
    },
    {
      "cell_type": "code",
      "execution_count": 1,
      "id": "0c7f9770",
      "metadata": {
        "colab": {
          "base_uri": "https://localhost:8080/"
        },
        "id": "0c7f9770",
        "outputId": "dc8635b3-5482-46ef-a44b-6017ed11c171"
      },
      "outputs": [
        {
          "output_type": "stream",
          "name": "stdout",
          "text": [
            "4\n",
            "-1\n",
            "Age is not a valid,settings age to a 0\n",
            "your young\n",
            "your young\n",
            "\n",
            "10\n",
            "your young\n",
            "your teeneger\n",
            "\n",
            "18\n",
            "your teeneger\n",
            "your old\n",
            "\n",
            "45\n",
            "your old\n",
            "your old\n",
            "\n"
          ]
        }
      ],
      "source": [
        "class Person:\n",
        "    def __init__(self,initialAge):\n",
        "      self.age=initialAge\n",
        "      if(self.age<=0):\n",
        "        print(\"Age is not a valid,settings age to a 0\")\n",
        "        self.age=0\n",
        "        # Add some more code to run some checks on initialAge\n",
        "    def amIOld(self):\n",
        "      if(self.age<13):\n",
        "        print(\"your young\")\n",
        "      elif(self.age>=13 and self.age<=18):\n",
        "        print(\"your teeneger\")\n",
        "      else:\n",
        "        print(\"your old\")          # Do some computations in here and print out the correct statement to the console\n",
        "    def yearPasses(self):\n",
        "      self.age+=1\n",
        "        # Increment the age of the person in here\n",
        "\n",
        "t = int(input())\n",
        "for i in range(0, t):\n",
        "    age = int(input())         \n",
        "    p = Person(age)  \n",
        "    p.amIOld()\n",
        "    for j in range(0, 3):\n",
        "        p.yearPasses()       \n",
        "    p.amIOld()\n",
        "    print(\"\")"
      ]
    },
    {
      "cell_type": "markdown",
      "id": "fdc085f4",
      "metadata": {
        "id": "fdc085f4"
      },
      "source": [
        "Q2.Problem on Inheritance\n",
        "```\n",
        "Task \n",
        "You are given two classes, Person and Student, where Person is the base class and Student is the derived \n",
        "class. Completed code for Person and a declaration for Student are provided for you in the editor. Observe that Student inherits all the properties of Person. \n",
        "Complete the Student class by writing the following: \n",
        "• A Student class constructor, which has 4 parameters: \n",
        "1. A string, firstName. \n",
        "2. A string, lastName. \n",
        "3. An integer, id. \n",
        "4. An integer array (or vector) of test scores, scores. \n",
        "• A char calculate() method that calculates a Student object's average and returns the grade character \n",
        "representative Of their calculated average\n",
        "```\n",
        "![image-2.png](attachment:image-2.png)\n",
        "```\n",
        "The first line contains firstName,lastName and idNumber, separated by a space. The second line contains the number of test scores. The third line of space-separated integers describes scores .\n",
        "```\n",
        "![image-3.png](attachment:image-3.png)\n"
      ]
    },
    {
      "cell_type": "code",
      "execution_count": 8,
      "id": "668d6caf",
      "metadata": {
        "colab": {
          "base_uri": "https://localhost:8080/"
        },
        "id": "668d6caf",
        "outputId": "79a91ff6-0492-489b-f489-2a074923b67c"
      },
      "outputs": [
        {
          "output_type": "stream",
          "name": "stdout",
          "text": [
            "r j 123\n",
            "80\n",
            "90\n",
            "Name: r, j\n",
            "ID: 123\n",
            "Grade: 0\n"
          ]
        }
      ],
      "source": [
        "class Person:\n",
        "  def __init__(self,firstName, lastName, idNumber):\n",
        "    self.firstName=firstName\n",
        "    self.lastName=lastName\n",
        "    self.idNumber=idNumber\n",
        "  def printperson(self):\n",
        "    print(f\"Name: {self.firstName}, {self.lastName}\\nID: {self.idNumber}\")\n",
        "\n",
        " # Write your code here\n",
        "\n",
        "class Student(Person):\n",
        "    #   Class Constructor\n",
        "    #   \n",
        "    #   Parameters:\n",
        "    #   firstName - A string denoting the Person's first name.\n",
        "    #   lastName - A string denoting the Person's last name.\n",
        "    #   id - An integer denoting the Person's ID number.\n",
        "    #   scores - An array of integers denoting the Person's test scores.\n",
        "    #\n",
        "    # Write your constructor here\n",
        "    def __init__(self, firstName, lastName, idNumber, scores):\n",
        "      super().__init__(firstName, lastName, idNumber)\n",
        "      self.scores=scores\n",
        "\n",
        "    #   Function Name: calculate\n",
        "    #   Return: A character denoting the grade.\n",
        "    #\n",
        "    # Write your function here\n",
        "    def calculate(self):\n",
        "      summation = 0\n",
        "      size = len(self.scores)\n",
        "      for i in self.scores:\n",
        "        summation += i\n",
        "      grade = summation / size\n",
        "      if(grade>=90 and grade<=100):\n",
        "        grade=\"0\"\n",
        "      elif(grade>=80 and grade<90):\n",
        "        grade=\"E\"\n",
        "      elif(grade>=70 and grade<80):\n",
        "        grade=\"A\"\n",
        "      elif(grade>=55 and grade<70):\n",
        "        grade=\"P\"\n",
        "      elif(grade>=40 and grade<50):\n",
        "        grade=\"D\"\n",
        "      else:\n",
        "        grade=\"T\"\n",
        "      return grade\n",
        "line = input().split()\n",
        "firstName = line[0]\n",
        "lastName = line[1]\n",
        "idNum = line[2]\n",
        "numScores = int(input()) # not needed for Python\n",
        "scores = list( map(int, input().split()) )\n",
        "s = Student(firstName, lastName, idNum, scores)\n",
        "s.printperson()\n",
        "print(\"Grade:\", s.calculate())"
      ]
    },
    {
      "cell_type": "code",
      "source": [
        ""
      ],
      "metadata": {
        "id": "DSYZrHJ6fPBR"
      },
      "id": "DSYZrHJ6fPBR",
      "execution_count": null,
      "outputs": []
    }
  ],
  "metadata": {
    "kernelspec": {
      "display_name": "Python 3 (ipykernel)",
      "language": "python",
      "name": "python3"
    },
    "language_info": {
      "codemirror_mode": {
        "name": "ipython",
        "version": 3
      },
      "file_extension": ".py",
      "mimetype": "text/x-python",
      "name": "python",
      "nbconvert_exporter": "python",
      "pygments_lexer": "ipython3",
      "version": "3.9.12"
    },
    "colab": {
      "name": "WEEK6 Assignment- Python OOP.ipynb",
      "provenance": []
    }
  },
  "nbformat": 4,
  "nbformat_minor": 5
}