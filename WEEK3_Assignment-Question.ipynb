{
  "cells": [
    {
      "cell_type": "markdown",
      "metadata": {
        "id": "view-in-github",
        "colab_type": "text"
      },
      "source": [
        "<a href=\"https://colab.research.google.com/github/rohinijagtap/Fundamentals-of-statistics-and-probability/blob/main/WEEK3_Assignment-Question.ipynb\" target=\"_parent\"><img src=\"https://colab.research.google.com/assets/colab-badge.svg\" alt=\"Open In Colab\"/></a>"
      ]
    },
    {
      "cell_type": "markdown",
      "id": "f0b37470-0aed-4a25-9c83-b7c419905b51",
      "metadata": {
        "id": "f0b37470-0aed-4a25-9c83-b7c419905b51"
      },
      "source": [
        "### WEEK 3: Assignment (Rohini jagtap)"
      ]
    },
    {
      "cell_type": "markdown",
      "id": "fef4acf7-6f16-4e7b-ab52-4198650eb19f",
      "metadata": {
        "id": "fef4acf7-6f16-4e7b-ab52-4198650eb19f"
      },
      "source": [
        "```\n",
        "Q1.Calculate the Salary using Python Programming\n",
        "\n",
        "Read the question carefully and follow the input and output format. \n",
        "\n",
        "Karen got salary for this month and she spends 20% of her salary for food, 10% of her salary for entertainment and 10% of her salary for travel.If she takes care of other shifts she will get 4% of the salary per day. Given her salary and the number of shifts she handled.Calculate how much she can save in her pocket after spending all these?\n",
        "\n",
        "Input and Output Format : First line of input consists of an integer, salary. Next line correspond to the number of shifts. Output consist of an integer, \n",
        "which is saving.\n",
        " 1. Print \"Salary too large\" when salary is greater than 10000. \n",
        " 2. Print \"Shifts too small\" when the shift is less than 0. \n",
        " 3. Print \"Salary too small\" when the salary is less than 0.\n",
        "Include a function named calculateSal(salary,shifts)  to calcuate salary and print saving.\n",
        "\n",
        "- Sample Input 1:\n",
        "  7000\n",
        "  5\n",
        "  Sample Output 1:\n",
        "  4200\n",
        "- Sample Input 2:\n",
        "  80000\n",
        "  Sample Output 2:\n",
        "  Salary too large\n",
        "- Sample Input 2:\n",
        "  6000\n",
        "  -1\n",
        "  Sample Output 2:\n",
        "  Shift too small\n",
        "```"
      ]
    },
    {
      "cell_type": "code",
      "source": [
        "salary=int(input(\"Enter Salary = \"))\n",
        "shift= int(input(\"Number of Shifts = \"))\n",
        "if salary>8000:\n",
        "    print(\"Salary too large\")\n",
        "elif shift<0:\n",
        "    print(\"Shift too small\")\n",
        "elif salary<0:\n",
        "    print(\"Salary too small\")\n",
        "else:\n",
        "    savings=(salary*0.5)+(salary*0.02*shift)\n",
        "    print(savings)"
      ],
      "metadata": {
        "id": "-E0EZDDPLPGN",
        "outputId": "01b79575-8a6d-49e4-c944-a2a65a579325",
        "colab": {
          "base_uri": "https://localhost:8080/"
        }
      },
      "id": "-E0EZDDPLPGN",
      "execution_count": 4,
      "outputs": [
        {
          "output_type": "stream",
          "name": "stdout",
          "text": [
            "Enter Salary = 6000\n",
            "Number of Shifts = -1\n",
            "Shift too small\n"
          ]
        }
      ]
    },
    {
      "cell_type": "markdown",
      "id": "1968378f-56d5-47f6-8791-913eb738aa3d",
      "metadata": {
        "id": "1968378f-56d5-47f6-8791-913eb738aa3d"
      },
      "source": [
        "```\n",
        "Q2.write python code to read n as integer,from STDIN. For all non-negative integers i<n ,print i**2.\n",
        "\n",
        "Example\n",
        "The list of non-negative integers that are less than n=3 is[0,1,2]. Print the square of each number on a separate line.\n",
        "0\n",
        "1\n",
        "4\n",
        "\n",
        "Input Format\n",
        "The first and only line contains the integer,n .\n",
        "Output Format\n",
        "Print n lines, one corresponding to each i .\n",
        "\n",
        "\n",
        "Sample Input \n",
        "5\n",
        "Sample Output \n",
        "0\n",
        "1\n",
        "4\n",
        "9\n",
        "16\n",
        "```"
      ]
    },
    {
      "cell_type": "code",
      "execution_count": 7,
      "id": "489c854a-cbd2-4cfd-88ea-d5a804055c2c",
      "metadata": {
        "id": "489c854a-cbd2-4cfd-88ea-d5a804055c2c",
        "outputId": "75bc08cd-4c72-43bc-e24d-9cd07bccf3d4",
        "colab": {
          "base_uri": "https://localhost:8080/"
        }
      },
      "outputs": [
        {
          "output_type": "stream",
          "name": "stdout",
          "text": [
            "5\n",
            "0\n",
            "1\n",
            "4\n",
            "9\n",
            "16\n"
          ]
        }
      ],
      "source": [
        "n = int(input())\n",
        "for i in range(n):\n",
        "   print(i*i)"
      ]
    },
    {
      "cell_type": "markdown",
      "id": "f50ecb1a-ed81-4254-ae20-57506e45c53f",
      "metadata": {
        "id": "f50ecb1a-ed81-4254-ae20-57506e45c53f"
      },
      "source": [
        "```\n",
        "Q3.An extra day is added to the calendar almost every four years as February 29, and the day is called a leap day. It corrects the calendar for the fact that our planet takes approximately 365.25 days to orbit the sun. A leap year contains a leap day.\n",
        "\n",
        "In the Gregorian calendar, three conditions are used to identify leap years:\n",
        "The year can be evenly divided by 4, is a leap year, unless:\n",
        "The year can be evenly divided by 100, it is NOT a leap year, unless:\n",
        "The year is also evenly divisible by 400. Then it is a leap year.\n",
        "This means that in the Gregorian calendar, the years 2000 and 2400 are leap years, while 1800, 1900, 2100, 2200, 2300 and 2500 are NOT leap years. Source\n",
        "\n",
        "Task\n",
        "Given a year, determine whether it is a leap year. If it is a leap year, return the Boolean True, otherwise return False.\n",
        "\n",
        "Note that the code stub provided reads from STDIN and passes arguments to the is_leap function. It is only necessary to complete the is_leap function.\n",
        "\n",
        "Input Format\n",
        "Read , the year as integer to test.\n",
        "Output Format\n",
        "The function must return a Boolean value (True/False)\n",
        "\n",
        "Sample Input \n",
        "1990\n",
        "Sample Output \n",
        "False\n",
        "\n",
        "```"
      ]
    },
    {
      "cell_type": "code",
      "execution_count": 17,
      "id": "1273f4a8-1681-40fc-8afc-75fce2c886d3",
      "metadata": {
        "id": "1273f4a8-1681-40fc-8afc-75fce2c886d3",
        "outputId": "db7864e2-dd03-4d64-a3a5-f6525c349318",
        "colab": {
          "base_uri": "https://localhost:8080/"
        }
      },
      "outputs": [
        {
          "output_type": "stream",
          "name": "stdout",
          "text": [
            "1990\n",
            "False\n"
          ]
        }
      ],
      "source": [
        "def is_leap(year):\n",
        "  leap=False\n",
        "  if year % 4 == 0:\n",
        "    leap=True\n",
        "  elif year % 100 == 0:\n",
        "    leap=False\n",
        "  elif year % 400 == 0:\n",
        "    leap=True\n",
        "  return leap\n",
        "year = int(input())\n",
        "print (is_leap(year))\n",
        "\n",
        "\n",
        "\n"
      ]
    },
    {
      "cell_type": "code",
      "source": [
        "def is_leap(year):\n",
        "    leap = False\n",
        "    \n",
        "    # Write your logic here\n",
        "    if year % 400 == 0:\n",
        "        leap = True\n",
        "    elif year % 100 == 0:\n",
        "        leap = False\n",
        "    elif year % 4 == 0:\n",
        "        leap = True\n",
        "    \n",
        "    return leap\n",
        "    \n",
        "year = int(raw_input())\n",
        "print (is_leap(year))"
      ],
      "metadata": {
        "id": "W7Wvhj35Obfi",
        "outputId": "c22446be-cb78-46ae-b790-18df60c5e374",
        "colab": {
          "base_uri": "https://localhost:8080/",
          "height": 217
        }
      },
      "id": "W7Wvhj35Obfi",
      "execution_count": 11,
      "outputs": [
        {
          "output_type": "error",
          "ename": "ValueError",
          "evalue": "ignored",
          "traceback": [
            "\u001b[0;31m---------------------------------------------------------------------------\u001b[0m",
            "\u001b[0;31mValueError\u001b[0m                                Traceback (most recent call last)",
            "\u001b[0;32m<ipython-input-11-c53084e52942>\u001b[0m in \u001b[0;36m<module>\u001b[0;34m()\u001b[0m\n\u001b[1;32m     12\u001b[0m     \u001b[0;32mreturn\u001b[0m \u001b[0mleap\u001b[0m\u001b[0;34m\u001b[0m\u001b[0;34m\u001b[0m\u001b[0m\n\u001b[1;32m     13\u001b[0m \u001b[0;34m\u001b[0m\u001b[0m\n\u001b[0;32m---> 14\u001b[0;31m \u001b[0myear\u001b[0m \u001b[0;34m=\u001b[0m \u001b[0mint\u001b[0m\u001b[0;34m(\u001b[0m\u001b[0;34m'raw_input()'\u001b[0m\u001b[0;34m)\u001b[0m\u001b[0;34m\u001b[0m\u001b[0;34m\u001b[0m\u001b[0m\n\u001b[0m\u001b[1;32m     15\u001b[0m \u001b[0mprint\u001b[0m \u001b[0;34m(\u001b[0m\u001b[0mis_leap\u001b[0m\u001b[0;34m(\u001b[0m\u001b[0myear\u001b[0m\u001b[0;34m)\u001b[0m\u001b[0;34m)\u001b[0m\u001b[0;34m\u001b[0m\u001b[0;34m\u001b[0m\u001b[0m\n",
            "\u001b[0;31mValueError\u001b[0m: invalid literal for int() with base 10: 'raw_input()'"
          ]
        }
      ]
    }
  ],
  "metadata": {
    "kernelspec": {
      "display_name": "Python 3 (ipykernel)",
      "language": "python",
      "name": "python3"
    },
    "language_info": {
      "codemirror_mode": {
        "name": "ipython",
        "version": 3
      },
      "file_extension": ".py",
      "mimetype": "text/x-python",
      "name": "python",
      "nbconvert_exporter": "python",
      "pygments_lexer": "ipython3",
      "version": "3.9.12"
    },
    "colab": {
      "name": "WEEK3-Assignment.ipynb",
      "provenance": [],
      "include_colab_link": true
    }
  },
  "nbformat": 4,
  "nbformat_minor": 5
}